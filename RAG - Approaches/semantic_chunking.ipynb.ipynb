{
 "cells": [
  {
   "cell_type": "code",
   "execution_count": 6,
   "id": "092ff21f-5a39-4f89-932f-cfd4b3375014",
   "metadata": {},
   "outputs": [
    {
     "data": {
      "text/plain": [
       "False"
      ]
     },
     "execution_count": 6,
     "metadata": {},
     "output_type": "execute_result"
    }
   ],
   "source": [
    "import os\n",
    "import sys\n",
    "from dotenv import load_dotenv\n",
    "\n",
    "sys.path.append(os.path.abspath(os.path.join(os.getcwd(), '..'))) # Add the parent directory to the path sicnce we work with notebooks\n",
    "from helper_functions import *\n",
    "from evalute_rag import *\n",
    "\n",
    "from langchain_experimental.text_splitter import SemanticChunker\n",
    "from langchain_openai.embeddings import OpenAIEmbeddings\n",
    "from langchain.embeddings import SentenceTransformerEmbeddings\n",
    "\n",
    "# Load environment variables from a .env file\n",
    "load_dotenv()"
   ]
  },
  {
   "cell_type": "markdown",
   "id": "3064c0f0-987b-41ed-81e1-96f2f954659e",
   "metadata": {},
   "source": [
    "### Define file path"
   ]
  },
  {
   "cell_type": "code",
   "execution_count": 3,
   "id": "4e879c79-f7e6-4e8e-8399-90fd4966089a",
   "metadata": {},
   "outputs": [],
   "source": [
    "path = \"/mnt/e/Virtual Agent/Doc/Genie.pdf\""
   ]
  },
  {
   "cell_type": "markdown",
   "id": "2b902c73-86b1-4682-9f3e-518c299eeb1e",
   "metadata": {},
   "source": [
    "## Read PDF to string"
   ]
  },
  {
   "cell_type": "code",
   "execution_count": 4,
   "id": "f536ad16-99d1-4ff6-af55-211b18d59648",
   "metadata": {},
   "outputs": [],
   "source": [
    "content = read_pdf_to_string(path)"
   ]
  },
  {
   "cell_type": "code",
   "execution_count": 7,
   "id": "2fae0176-a14c-4776-91c6-16866d0145e2",
   "metadata": {},
   "outputs": [],
   "source": [
    "text_splitter = SemanticChunker(SentenceTransformerEmbeddings(model_name=\"all-MiniLM-L6-v2\"), breakpoint_threshold_type='percentile', breakpoint_threshold_amount=90) # chose which embeddings and breakpoint type and threshold to use"
   ]
  },
  {
   "cell_type": "markdown",
   "id": "a2ca5516-e906-4f1b-aece-b6590ad85c88",
   "metadata": {},
   "source": [
    "## Split original text to semantic chunks"
   ]
  },
  {
   "cell_type": "code",
   "execution_count": 8,
   "id": "ec46d4cf-7b09-4c66-9222-e9f8ec82a192",
   "metadata": {},
   "outputs": [],
   "source": [
    "docs = text_splitter.create_documents([content])"
   ]
  },
  {
   "cell_type": "markdown",
   "id": "17ce17a7-a969-494b-bc50-861ca1eb12a1",
   "metadata": {},
   "source": [
    "## Create vector store and retriever"
   ]
  },
  {
   "cell_type": "code",
   "execution_count": 10,
   "id": "1bccd3d9-737f-4190-850e-80fb39f23ed1",
   "metadata": {},
   "outputs": [],
   "source": [
    "embeddings = SentenceTransformerEmbeddings(model_name=\"all-MiniLM-L6-v2\")\n",
    "vectorstore = FAISS.from_documents(docs, embeddings)\n",
    "chunks_query_retriever = vectorstore.as_retriever(search_kwargs={\"k\": 2})"
   ]
  },
  {
   "cell_type": "markdown",
   "id": "f1f4a9b4-6cc5-4331-9b8d-0c73ce93b8e1",
   "metadata": {},
   "source": [
    "## Test the retriever"
   ]
  },
  {
   "cell_type": "code",
   "execution_count": 11,
   "id": "454192b1-5231-4061-ba2f-3e433c17ee1f",
   "metadata": {},
   "outputs": [
    {
     "name": "stdout",
     "output_type": "stream",
     "text": [
      "Context 1:\n",
      "Welcome to Genie Enterprise\n",
      "At Genie Enterprise, we are dedicated to transforming the digital landscape through cutting-edge \n",
      "technology and innovation. Founded in 2021 in the picturesque town of Ludwigshafen am Rhein, \n",
      "Rheinland-Pfalz, Genie Enterprise has quickly become a pioneer in the software development \n",
      "industry. With a focus on Artificial Intelligence (AI), Big Data, and advanced technologies like \n",
      "Computer Vision and Natural Language Processing (NLP), we are committed to solving real-world \n",
      "problems and overcoming business challenges with sustainable, intelligent solutions. Our Mission\n",
      "Our mission is simple yet profound: to harness the power of AI to make the world more \n",
      "understandable, accessible, and sustainable.\n",
      "\n",
      "\n",
      "Context 2:\n",
      "Machine Learning & Deep Learning: Our expertise in these areas enables us to design and \n",
      "deploy models that not only perform complex tasks but also continuously improve, ensuring long-\n",
      "term success. Our Core Team\n",
      "At the heart of Genie Enterprise is a team of passionate professionals, each bringing their unique \n",
      "skills and experiences to the table. Led by our CEO and Founder, Regina Kessler, our core team is \n",
      "the driving force behind our success. Regina Kessler - CEO/FOUNDER\n",
      "Regina Kessler, affectionately known as ‘Gini’, has been fascinated with the concept of genies since \n",
      "she was a child, a love that was inspired by the classic TV show, *I Dream of Genie*. Regina’s \n",
      "passion for technology began with her admiration for the show *Star Trek*, where she saw \n",
      "computers as the real genies, capable of making anything possible. This fascination led her to \n",
      "immerse herself in the world of technology, starting her career in sales and later expanding into \n",
      "marketing and the wine industry.\n",
      "\n",
      "\n"
     ]
    },
    {
     "name": "stderr",
     "output_type": "stream",
     "text": [
      "/home/mdmonsurali/helper_functions.py:86: LangChainDeprecationWarning: The method `BaseRetriever.get_relevant_documents` was deprecated in langchain-core 0.1.46 and will be removed in 1.0. Use invoke instead.\n",
      "  docs = chunks_query_retriever.get_relevant_documents(question)\n"
     ]
    }
   ],
   "source": [
    "test_query = \"Where is genie enterprise located?\"\n",
    "context = retrieve_context_per_question(test_query, chunks_query_retriever)\n",
    "show_context(context)"
   ]
  },
  {
   "cell_type": "code",
   "execution_count": null,
   "id": "f7793bd1-2492-4bee-abba-deff881131a0",
   "metadata": {},
   "outputs": [],
   "source": []
  }
 ],
 "metadata": {
  "kernelspec": {
   "display_name": "Python 3 (ipykernel)",
   "language": "python",
   "name": "python3"
  },
  "language_info": {
   "codemirror_mode": {
    "name": "ipython",
    "version": 3
   },
   "file_extension": ".py",
   "mimetype": "text/x-python",
   "name": "python",
   "nbconvert_exporter": "python",
   "pygments_lexer": "ipython3",
   "version": "3.10.14"
  }
 },
 "nbformat": 4,
 "nbformat_minor": 5
}
