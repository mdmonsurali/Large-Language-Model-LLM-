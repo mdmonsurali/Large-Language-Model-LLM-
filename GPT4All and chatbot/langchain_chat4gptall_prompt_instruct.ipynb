{
 "cells": [
  {
   "cell_type": "code",
   "execution_count": 3,
   "id": "63fe15a8-cb5c-457e-a748-7997e6ddc6ce",
   "metadata": {},
   "outputs": [],
   "source": [
    "from langchain.document_loaders import DirectoryLoader\n",
    "from langchain.embeddings import SentenceTransformerEmbeddings\n",
    "from langchain.callbacks.manager import CallbackManager\n",
    "from langchain_core.prompts import PromptTemplate\n",
    "from langchain.chains import LLMChain\n",
    "from langchain_community.llms import GPT4All\n",
    "import time"
   ]
  },
  {
   "cell_type": "code",
   "execution_count": 4,
   "id": "43ea904e-07d8-4e0e-911a-49d276b244f5",
   "metadata": {},
   "outputs": [],
   "source": [
    "# Create a variable to store the path of the model\n",
    "model_path_mistral = \"/mnt/e/Virtual Agent/Gpt4all/mistral-7b-instruct-v0.1.Q4_0.gguf\"\n",
    "model_path_llama3 = \"/mnt/e/Virtual Agent/Gpt4all/Meta-Llama-3-8B-Instruct.Q4_0.gguf\"\n",
    "\n",
    "# Create the Callback Manager\n",
    "callback_manager = CallbackManager([])\n",
    "\n",
    "device_for_running_LLM = 'cuda:NVIDIA GeForce RTX 3060 Laptop GPU'\n",
    "#device= device_for_running_LLM,\n",
    "\n",
    "# Create the LLM using the GPT4All class\n",
    "llm = GPT4All(model=model_path_mistral, device= device_for_running_LLM, callback_manager=callback_manager, verbose=True)"
   ]
  },
  {
   "cell_type": "code",
   "execution_count": 5,
   "id": "875274be-282f-427d-9830-4272a989f949",
   "metadata": {},
   "outputs": [],
   "source": [
    "# Define the prompt template\n",
    "template = \"\"\"\n",
    "You are an AI assistant given the following question provide a shot answer.\n",
    "\n",
    "Question: {question}\n",
    "\n",
    "Answer:\n",
    "\"\"\"\n",
    "\n",
    "# Create the prompt variable using the PromptTemplate class\n",
    "prompt = PromptTemplate(template=template, input_variables=[\"question\"])"
   ]
  },
  {
   "cell_type": "code",
   "execution_count": 7,
   "id": "557898f8-5fb0-482f-ae30-9ebcf9953944",
   "metadata": {},
   "outputs": [
    {
     "name": "stdout",
     "output_type": "stream",
     "text": [
      "GPT-4 is a large language model developed by OpenAI that can perform a wide range of natural language processing tasks, including text generation, translation, and summarization. Some potential benefits of using GPT-4 include its ability to generate high-quality text quickly and efficiently, as well as its versatility in handling different types of input data. Additionally, GPT-4 has been shown to perform well on a variety of tasks, including language modeling, question answering, and image captioning. Overall, GPT-4 is a powerful tool that can be used for a wide range of applications in fields such as natural language processing, artificial intelligence, and machine learning.\n",
      "Time taken to generate answer: 7.98 seconds\n"
     ]
    }
   ],
   "source": [
    "# Create the LLMChain using the prompt template and the GPT4All model\n",
    "llm_chain = LLMChain(prompt=prompt, llm=llm)\n",
    "\n",
    "# Ask a question and get the answer\n",
    "query = \"What are the benefits of using GPT4All?\"\n",
    "\n",
    "\n",
    "start_time = time.time()  # Start timing                                       \n",
    "result = llm_chain.invoke(input=query)\n",
    "print(result['text'])\n",
    "end_time = time.time()  # End timing\n",
    "elapsed_time = end_time - start_time\n",
    "print(f\"Time taken to generate answer: {elapsed_time:.2f} seconds\")"
   ]
  },
  {
   "cell_type": "code",
   "execution_count": null,
   "id": "bc5e6dc9-10ff-4c1d-ab79-ff4b38f3e753",
   "metadata": {},
   "outputs": [],
   "source": []
  }
 ],
 "metadata": {
  "kernelspec": {
   "display_name": "Python 3 (ipykernel)",
   "language": "python",
   "name": "python3"
  },
  "language_info": {
   "codemirror_mode": {
    "name": "ipython",
    "version": 3
   },
   "file_extension": ".py",
   "mimetype": "text/x-python",
   "name": "python",
   "nbconvert_exporter": "python",
   "pygments_lexer": "ipython3",
   "version": "3.10.14"
  }
 },
 "nbformat": 4,
 "nbformat_minor": 5
}
